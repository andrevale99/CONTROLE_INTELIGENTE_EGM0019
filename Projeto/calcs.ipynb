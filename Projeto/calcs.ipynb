{
 "cells": [
  {
   "cell_type": "code",
   "execution_count": 1,
   "metadata": {},
   "outputs": [],
   "source": [
    "def FREQ_CTC(freq_cpu, prescale, top):\n",
    "    return freq_cpu / (2 * prescale * (1 + top))\n",
    "\n",
    "def FREQ_fastPWM(freq_cpu, prescale, top):\n",
    "    return freq_cpu / (prescale * (1 + top))"
   ]
  },
  {
   "cell_type": "code",
   "execution_count": 9,
   "metadata": {},
   "outputs": [
    {
     "data": {
      "text/plain": [
       "1.0415972268515432"
      ]
     },
     "execution_count": 9,
     "metadata": {},
     "output_type": "execute_result"
    }
   ],
   "source": [
    "Freq_CPU = 16e6\n",
    "TOP = 15000\n",
    "\n",
    "FREQ_fastPWM(Freq_CPU, 1024, TOP)"
   ]
  }
 ],
 "metadata": {
  "kernelspec": {
   "display_name": "Python 3",
   "language": "python",
   "name": "python3"
  },
  "language_info": {
   "codemirror_mode": {
    "name": "ipython",
    "version": 3
   },
   "file_extension": ".py",
   "mimetype": "text/x-python",
   "name": "python",
   "nbconvert_exporter": "python",
   "pygments_lexer": "ipython3",
   "version": "3.9.10"
  }
 },
 "nbformat": 4,
 "nbformat_minor": 2
}
