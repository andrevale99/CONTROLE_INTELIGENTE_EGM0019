{
 "cells": [
  {
   "cell_type": "code",
   "execution_count": null,
   "id": "7d754cc8",
   "metadata": {},
   "outputs": [],
   "source": [
    "import numpy as np\n",
    "import matplotlib.pyplot as plt\n",
    "import os"
   ]
  },
  {
   "cell_type": "code",
   "execution_count": 7,
   "id": "5e4fbec3",
   "metadata": {},
   "outputs": [],
   "source": [
    "txt = \"teste01.txt\"\n",
    "\n",
    "data = np.loadtxt(txt)\n",
    "\n",
    "tempo = data[:, 0]\n",
    "sp = data[:, 1]\n",
    "erro = data[:, 2]\n",
    "controle = data[:, 3]\n",
    "omega = data[:, 4]"
   ]
  }
 ],
 "metadata": {
  "kernelspec": {
   "display_name": "Python 3",
   "language": "python",
   "name": "python3"
  },
  "language_info": {
   "codemirror_mode": {
    "name": "ipython",
    "version": 3
   },
   "file_extension": ".py",
   "mimetype": "text/x-python",
   "name": "python",
   "nbconvert_exporter": "python",
   "pygments_lexer": "ipython3",
   "version": "3.12.3"
  }
 },
 "nbformat": 4,
 "nbformat_minor": 5
}
