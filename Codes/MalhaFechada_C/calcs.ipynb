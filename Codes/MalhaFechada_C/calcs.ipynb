{
 "cells": [
  {
   "cell_type": "code",
   "execution_count": 5,
   "metadata": {},
   "outputs": [],
   "source": [
    "import numpy as np\n",
    "import matplotlib.pyplot as plt"
   ]
  },
  {
   "cell_type": "code",
   "execution_count": 6,
   "metadata": {},
   "outputs": [],
   "source": [
    "def FREQ_CTC(freq_cpu, prescale, top):\n",
    "    return freq_cpu / (2 * prescale * (1 + top))\n",
    "\n",
    "def FREQ_fastPWM(freq_cpu, prescale, top):\n",
    "    return freq_cpu / (prescale * (1 + top))\n",
    "\n",
    "def escala(adcvalue):\n",
    "    return int((adcvalue[i] / 1023) * 510 - 255)"
   ]
  },
  {
   "cell_type": "code",
   "execution_count": 23,
   "metadata": {},
   "outputs": [
    {
     "name": "stdout",
     "output_type": "stream",
     "text": [
      "46020\n"
     ]
    }
   ],
   "source": [
    "pulsos = 39\n",
    "pulsos_por_periodo = 1180\n",
    "periodo = 100\n",
    "\n",
    "rpm = (pulsos / pulsos_por_periodo) * (60000 / periodo)\n",
    "\n",
    "print(rpm)"
   ]
  }
 ],
 "metadata": {
  "kernelspec": {
   "display_name": "Python 3",
   "language": "python",
   "name": "python3"
  },
  "language_info": {
   "codemirror_mode": {
    "name": "ipython",
    "version": 3
   },
   "file_extension": ".py",
   "mimetype": "text/x-python",
   "name": "python",
   "nbconvert_exporter": "python",
   "pygments_lexer": "ipython3",
   "version": "3.9.10"
  }
 },
 "nbformat": 4,
 "nbformat_minor": 2
}
